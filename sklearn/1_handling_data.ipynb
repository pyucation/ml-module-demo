{
 "cells": [
  {
   "cell_type": "code",
   "execution_count": 1,
   "metadata": {},
   "outputs": [],
   "source": [
    "from sklearn.datasets import load_iris\n",
    "from sklearn.model_selection import train_test_split\n",
    "from sklearn.preprocessing import StandardScaler, OneHotEncoder\n",
    "from sklearn.impute import SimpleImputer\n",
    "from sklearn.compose import ColumnTransformer\n",
    "from sklearn.pipeline import Pipeline\n",
    "import numpy as np\n",
    "import pandas as pd"
   ]
  },
  {
   "cell_type": "code",
   "execution_count": 2,
   "metadata": {},
   "outputs": [],
   "source": [
    "# Load the Iris dataset\n",
    "data = load_iris()\n",
    "X, y = data.data, data.target"
   ]
  },
  {
   "cell_type": "code",
   "execution_count": 3,
   "metadata": {},
   "outputs": [],
   "source": [
    "# Convert to DataFrame for demonstration purposes\n",
    "df = pd.DataFrame(X, columns=data.feature_names)\n",
    "df['species'] = y"
   ]
  },
  {
   "cell_type": "code",
   "execution_count": 4,
   "metadata": {},
   "outputs": [
    {
     "data": {
      "text/html": [
       "<div>\n",
       "<style scoped>\n",
       "    .dataframe tbody tr th:only-of-type {\n",
       "        vertical-align: middle;\n",
       "    }\n",
       "\n",
       "    .dataframe tbody tr th {\n",
       "        vertical-align: top;\n",
       "    }\n",
       "\n",
       "    .dataframe thead th {\n",
       "        text-align: right;\n",
       "    }\n",
       "</style>\n",
       "<table border=\"1\" class=\"dataframe\">\n",
       "  <thead>\n",
       "    <tr style=\"text-align: right;\">\n",
       "      <th></th>\n",
       "      <th>sepal length (cm)</th>\n",
       "      <th>sepal width (cm)</th>\n",
       "      <th>petal length (cm)</th>\n",
       "      <th>petal width (cm)</th>\n",
       "      <th>species</th>\n",
       "    </tr>\n",
       "  </thead>\n",
       "  <tbody>\n",
       "    <tr>\n",
       "      <th>0</th>\n",
       "      <td>5.1</td>\n",
       "      <td>3.5</td>\n",
       "      <td>1.4</td>\n",
       "      <td>0.2</td>\n",
       "      <td>0</td>\n",
       "    </tr>\n",
       "    <tr>\n",
       "      <th>1</th>\n",
       "      <td>4.9</td>\n",
       "      <td>3.0</td>\n",
       "      <td>1.4</td>\n",
       "      <td>0.2</td>\n",
       "      <td>0</td>\n",
       "    </tr>\n",
       "    <tr>\n",
       "      <th>2</th>\n",
       "      <td>4.7</td>\n",
       "      <td>3.2</td>\n",
       "      <td>1.3</td>\n",
       "      <td>0.2</td>\n",
       "      <td>0</td>\n",
       "    </tr>\n",
       "    <tr>\n",
       "      <th>3</th>\n",
       "      <td>4.6</td>\n",
       "      <td>3.1</td>\n",
       "      <td>1.5</td>\n",
       "      <td>0.2</td>\n",
       "      <td>0</td>\n",
       "    </tr>\n",
       "    <tr>\n",
       "      <th>4</th>\n",
       "      <td>5.0</td>\n",
       "      <td>3.6</td>\n",
       "      <td>1.4</td>\n",
       "      <td>0.2</td>\n",
       "      <td>0</td>\n",
       "    </tr>\n",
       "  </tbody>\n",
       "</table>\n",
       "</div>"
      ],
      "text/plain": [
       "   sepal length (cm)  sepal width (cm)  petal length (cm)  petal width (cm)  \\\n",
       "0                5.1               3.5                1.4               0.2   \n",
       "1                4.9               3.0                1.4               0.2   \n",
       "2                4.7               3.2                1.3               0.2   \n",
       "3                4.6               3.1                1.5               0.2   \n",
       "4                5.0               3.6                1.4               0.2   \n",
       "\n",
       "   species  \n",
       "0        0  \n",
       "1        0  \n",
       "2        0  \n",
       "3        0  \n",
       "4        0  "
      ]
     },
     "execution_count": 4,
     "metadata": {},
     "output_type": "execute_result"
    }
   ],
   "source": [
    "df.head()"
   ]
  },
  {
   "cell_type": "code",
   "execution_count": 5,
   "metadata": {},
   "outputs": [],
   "source": [
    "# künstlich \"missing values\" hinzufügen\n",
    "df.iloc[0, 2] = np.nan\n",
    "df['species'] = df['species'].map({0: 'setosa', 1: 'versicolor', 2: 'virginica'})"
   ]
  },
  {
   "cell_type": "code",
   "execution_count": 6,
   "metadata": {},
   "outputs": [
    {
     "data": {
      "text/html": [
       "<div>\n",
       "<style scoped>\n",
       "    .dataframe tbody tr th:only-of-type {\n",
       "        vertical-align: middle;\n",
       "    }\n",
       "\n",
       "    .dataframe tbody tr th {\n",
       "        vertical-align: top;\n",
       "    }\n",
       "\n",
       "    .dataframe thead th {\n",
       "        text-align: right;\n",
       "    }\n",
       "</style>\n",
       "<table border=\"1\" class=\"dataframe\">\n",
       "  <thead>\n",
       "    <tr style=\"text-align: right;\">\n",
       "      <th></th>\n",
       "      <th>sepal length (cm)</th>\n",
       "      <th>sepal width (cm)</th>\n",
       "      <th>petal length (cm)</th>\n",
       "      <th>petal width (cm)</th>\n",
       "      <th>species</th>\n",
       "    </tr>\n",
       "  </thead>\n",
       "  <tbody>\n",
       "    <tr>\n",
       "      <th>0</th>\n",
       "      <td>5.1</td>\n",
       "      <td>3.5</td>\n",
       "      <td>NaN</td>\n",
       "      <td>0.2</td>\n",
       "      <td>setosa</td>\n",
       "    </tr>\n",
       "    <tr>\n",
       "      <th>1</th>\n",
       "      <td>4.9</td>\n",
       "      <td>3.0</td>\n",
       "      <td>1.4</td>\n",
       "      <td>0.2</td>\n",
       "      <td>setosa</td>\n",
       "    </tr>\n",
       "    <tr>\n",
       "      <th>2</th>\n",
       "      <td>4.7</td>\n",
       "      <td>3.2</td>\n",
       "      <td>1.3</td>\n",
       "      <td>0.2</td>\n",
       "      <td>setosa</td>\n",
       "    </tr>\n",
       "    <tr>\n",
       "      <th>3</th>\n",
       "      <td>4.6</td>\n",
       "      <td>3.1</td>\n",
       "      <td>1.5</td>\n",
       "      <td>0.2</td>\n",
       "      <td>setosa</td>\n",
       "    </tr>\n",
       "    <tr>\n",
       "      <th>4</th>\n",
       "      <td>5.0</td>\n",
       "      <td>3.6</td>\n",
       "      <td>1.4</td>\n",
       "      <td>0.2</td>\n",
       "      <td>setosa</td>\n",
       "    </tr>\n",
       "  </tbody>\n",
       "</table>\n",
       "</div>"
      ],
      "text/plain": [
       "   sepal length (cm)  sepal width (cm)  petal length (cm)  petal width (cm)  \\\n",
       "0                5.1               3.5                NaN               0.2   \n",
       "1                4.9               3.0                1.4               0.2   \n",
       "2                4.7               3.2                1.3               0.2   \n",
       "3                4.6               3.1                1.5               0.2   \n",
       "4                5.0               3.6                1.4               0.2   \n",
       "\n",
       "  species  \n",
       "0  setosa  \n",
       "1  setosa  \n",
       "2  setosa  \n",
       "3  setosa  \n",
       "4  setosa  "
      ]
     },
     "execution_count": 6,
     "metadata": {},
     "output_type": "execute_result"
    }
   ],
   "source": [
    "df.head()"
   ]
  },
  {
   "cell_type": "code",
   "execution_count": 7,
   "metadata": {},
   "outputs": [],
   "source": [
    "# train test split\n",
    "X_train, X_test, y_train, y_test = train_test_split(df.drop('species', axis=1), df['species'], test_size=0.2, random_state=42)"
   ]
  },
  {
   "cell_type": "code",
   "execution_count": 8,
   "metadata": {},
   "outputs": [],
   "source": [
    "# numerische Werte (alle bis auf die letzter Wert)\n",
    "numerical_features = df.columns[:-1]"
   ]
  },
  {
   "cell_type": "code",
   "execution_count": 13,
   "metadata": {},
   "outputs": [],
   "source": [
    "# Transformer, um die verschiedenen Datentypen/Features zu \"pre-processen\"\n",
    "numerical_transformer = Pipeline(steps=[\n",
    "    ('imputer', SimpleImputer(strategy='mean')),  # fill missing values with mean\n",
    "    ('scaler', StandardScaler())  # scale numerical features\n",
    "])"
   ]
  },
  {
   "cell_type": "code",
   "execution_count": 14,
   "metadata": {},
   "outputs": [],
   "source": [
    "# preprocessing anwenden\n",
    "X_train_preprocessed = numerical_transformer.fit_transform(X_train)"
   ]
  },
  {
   "cell_type": "code",
   "execution_count": 15,
   "metadata": {},
   "outputs": [],
   "source": [
    "# zur Demonstration zurück in die Dataframe (macht man sonst nicht eigentlich)\n",
    "# nur numerische Werte, daher können wir diese direkt als Spaltennamen verwenden\n",
    "X_train_preprocessed = pd.DataFrame(X_train_preprocessed, columns=numerical_features)"
   ]
  },
  {
   "cell_type": "code",
   "execution_count": 16,
   "metadata": {},
   "outputs": [
    {
     "name": "stdout",
     "output_type": "stream",
     "text": [
      "   sepal length (cm)  sepal width (cm)  petal length (cm)  petal width (cm)\n",
      "0          -1.473937          1.203658          -1.585627         -1.312603\n",
      "1          -0.133071          2.992376          -1.296934         -1.045633\n",
      "2           1.085898          0.085709           0.377484          0.289218\n",
      "3          -1.230143          0.756479          -1.239196         -1.312603\n",
      "4          -1.717731          0.309299          -1.412412         -1.312603\n"
     ]
    }
   ],
   "source": [
    "# ersten Einträge zeigen\n",
    "print(X_train_preprocessed.head())"
   ]
  },
  {
   "cell_type": "markdown",
   "metadata": {},
   "source": [
    "## Übersicht: Feature Types\n",
    "### 1. Numerische Features\n",
    "Numerische Features sind Datentypen, die quantitative Messungen darstellen und jeden Wert innerhalb eines Bereichs annehmen können. Diese Merkmale werden weiter in zwei Untertypen unterteilt:\n",
    "- **Kontinuirliche Features**: repräsentieren Messungen und können eine unendliche Anzahl von Werten innerhalb eines gegebenen Bereichs annehmen. Beispiele: Größe, Gewicht, Temperatur und Gehalt. Die Werte können sehr präzise sein, wie z. B. 34,56743 Grad.\n",
    "- **Diskrete Features**: repräsentieren zählbare Werte, die aufgezählt, aber nicht sinnvoll unterteilt werden können. Beispiele: sind die Anzahl der Zimmer in einem Haus, die Anzahl der Autos auf einem Parkplatz oder die Anzahl der Kinder in einer Familie.\n",
    "\n",
    "### 2. Ordinale Features\n",
    "Ordinale Features repräsentieren Daten, die eine klare Ordnung oder Rangfolge haben, aber bei denen die Intervalle zwischen den Werten nicht unbedingt konsistent oder bekannt sind. Die Reihenfolge der Werte ist bedeutungsvoll, aber die Größe zwischen aufeinanderfolgenden Werten ist möglicherweise nicht konsistent. Zum Beispiel:\n",
    "- Bildungsstufen wie Grundschule, Mittelschule, Oberschule und Hochschule. Diese Ebenen haben eindeutig eine Reihenfolge, aber der Unterschied zwischen jeder Stufe ist qualitativ und nicht quantitativ.\n",
    "- Zufriedenheitsbewertungen wie schlecht, ausreichend, gut, sehr gut, ausgezeichnet. Auch hier ist die Reihenfolge signifikant, aber der tatsächliche Unterschied zwischen \"gut\" und \"sehr gut\" ist nicht präzise quantifizierbar.\n",
    "\n",
    "### 3. Kategoriale Features\n",
    "Kategoriale Features, auch als nominale Merkmale bekannt, repräsentieren Daten, die eine begrenzte Anzahl von Kategorien annehmen können, aber bei denen es keine intrinsische Ordnung der Kategorien gibt. Diese Merkmale sind qualitativer Natur, und jede Kategorie wird typischerweise durch eine eigene Gruppe oder Klasse dargestellt. Beispiele:\n",
    "- Farben eines Produkts\n",
    "- Fahrzeugtypen\n",
    "- Geschlecht\n",
    "\n",
    "\n",
    "### Unterschiedliches Pre-Processing\n",
    "- **Numerische Features**: erfordern oft eine Normalisierung oder Standardisierung, um sicherzustellen, dass das Modell nicht voreingenommen gegenüber Variablen mit höherer Größenordnung wird.\n",
    "- **Ordinale Features**: können auf Weisen kodiert werden, die die Reihenfolge der Kategorien respektieren. Häufig verwendete Techniken sind die Label-Kodierung, bei der jeder Kategorie ein numerischer Wert zugewiesen wird (z. B. Oberschule = 3, Hochschule = 4).\n",
    "- **Kategoriale Features**: werden üblicherweise durch Techniken wie die One-Hot-Kodierung behandelt, bei der jede Kategorie in eine neue binäre Spalte umgewandelt wird, die für das Training von Modellen geeignet ist. Bsp.: `{\"grün\", \"rot\", \"blau\"}` wird zu drei Vektoren: `{[1, 0, 0], [0, 1, 0], [0, 0, 1]}`"
   ]
  }
 ],
 "metadata": {
  "kernelspec": {
   "display_name": "ml-venv",
   "language": "python",
   "name": "python3"
  },
  "language_info": {
   "codemirror_mode": {
    "name": "ipython",
    "version": 3
   },
   "file_extension": ".py",
   "mimetype": "text/x-python",
   "name": "python",
   "nbconvert_exporter": "python",
   "pygments_lexer": "ipython3",
   "version": "3.10.4"
  }
 },
 "nbformat": 4,
 "nbformat_minor": 2
}
